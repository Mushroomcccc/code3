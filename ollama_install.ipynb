{
 "cells": [
  {
   "cell_type": "code",
   "execution_count": 1,
   "metadata": {},
   "outputs": [
    {
     "name": "stdout",
     "output_type": "stream",
     "text": [
      "  \"tag_name\": \"v0.5.11\",\n",
      "wget -c https://ghproxy.cfd/https://github.com/ollama/ollama/releases/download/v0.5.11/ollama-linux-amd64.tgz\n"
     ]
    }
   ],
   "source": [
    "# 本notebook安装ollama最新版本，只需要运行一次，之后可另存为autodl的镜像；\n",
    "# 第一段代码查询最新版本\n",
    "! curl -s https://api.github.com/repos/ollama/ollama/releases/latest | grep -E \"tag_name\"\n",
    "mirror=\"https://ghproxy.cfd\"\n",
    "version=\"v0.5.11\"\n",
    "!echo wget -c {mirror}/https://github.com/ollama/ollama/releases/download/{version}/ollama-linux-amd64.tgz"
   ]
  },
  {
   "cell_type": "code",
   "execution_count": 2,
   "metadata": {},
   "outputs": [
    {
     "name": "stdout",
     "output_type": "stream",
     "text": [
      "--2025-02-24 23:52:47--  https://ghproxy.cfd/https://github.com/ollama/ollama/releases/download/v0.5.11/ollama-linux-amd64.tgz\n",
      "Resolving ghproxy.cfd (ghproxy.cfd)... 172.67.159.58, 104.21.41.29, 2606:4700:3036::6815:291d, ...\n",
      "Connecting to ghproxy.cfd (ghproxy.cfd)|172.67.159.58|:443... ^C\n"
     ]
    }
   ],
   "source": [
    "# 第二段代码下载最新版本\n",
    "# 如果下载卡住，可反复运行，默认已使用-c参数，实现断点续传。\n",
    "!wget -c {mirror}/https://github.com/ollama/ollama/releases/download/{version}/ollama-linux-amd64.tgz"
   ]
  },
  {
   "cell_type": "code",
   "execution_count": null,
   "metadata": {},
   "outputs": [],
   "source": [
    "# 第三段代码解压代码\n",
    "!tar -C /usr -xzvf ollama-linux-amd64.tgz"
   ]
  }
 ],
 "metadata": {
  "kernelspec": {
   "display_name": "Python 3 (ipykernel)",
   "language": "python",
   "name": "python3"
  },
  "language_info": {
   "codemirror_mode": {
    "name": "ipython",
    "version": 3
   },
   "file_extension": ".py",
   "mimetype": "text/x-python",
   "name": "python",
   "nbconvert_exporter": "python",
   "pygments_lexer": "ipython3",
   "version": "3.10.8"
  }
 },
 "nbformat": 4,
 "nbformat_minor": 4
}
